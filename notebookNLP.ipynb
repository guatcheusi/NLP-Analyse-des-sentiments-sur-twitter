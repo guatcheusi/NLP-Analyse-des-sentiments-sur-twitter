{
 "cells": [
  {
   "cell_type": "markdown",
   "metadata": {
    "id": "JkWHJZVFImnK"
   },
   "source": [
    "# **Projet NLP: ANALYSE DES SENTIMENTS TWITTER**"
   ]
  },
  {
   "cell_type": "markdown",
   "metadata": {
    "id": "D8rzaZfMF7LP"
   },
   "source": [
    "Ce didacticiel contient le code complet qui m'a servi pour affiner mon modèle BERT afin d'effectuer une analyse des sentiments sur un ensemble de données en français relatif au sujet en texte brut. En plus de la formation d'un modèle, nous prétraitons le texte dans un format approprié grace à BERT.\n",
    "\n",
    "\n",
    "\n",
    "*   Nous chargons les données depuis le drive mais vous pouvez le retrouver sur kaggle https://www.kaggle.com/code/houssemayed/camembert-for-french-tweets-classification/input\n",
    "*   Nous chargons le modèle BERT grace à la bibliothèque Tensorflow Hub celui ci nous servira d'encodeur pour nos séquences de textes\n",
    "* Nous construirons notre modèle en combinant BERT avec un simple classificateur\n",
    "*  Nous entrainerons notre modèle\n",
    "* Nous enregistrerons notre modèle et l'utiliserons pour classifier les phrases selon le sentiment qu'il dégage.\n",
    "\n",
    "\n",
    "\n",
    "\n",
    "\n",
    "\n",
    "\n"
   ]
  },
  {
   "cell_type": "markdown",
   "metadata": {
    "id": "XgDrAxSFKH_s"
   },
   "source": [
    "# A propos de BERT\n",
    "\n",
    "BERTa été un grand succès sur une variété de tâches en PNL (traitement du langage naturel). Ils calculent des représentations vectorielles dans l'espace du langage naturel qui peuvent être utilisés dans des modèles d'apprentissage. La famille de modèles BERT utilise l'architecture de l'encodeur Transformer pour traiter chaque jeton de texte d'entrée dans le contexte complet de tous les jetons avant et après, d'où le nom : *Bidirectional Encoder Representations from Transformers* en français Représentations d'encodeur bidirectionnel de Transformers.\n",
    "\n",
    "Les modèles BERT sont généralement pré-formés sur un grand corpus de texte, puis affinés pour des tâches spécifiques."
   ]
  },
  {
   "cell_type": "markdown",
   "metadata": {
    "id": "SXvdWj67LBYB"
   },
   "source": [
    "# Commençons 🔽"
   ]
  },
  {
   "cell_type": "code",
   "execution_count": null,
   "metadata": {
    "id": "SY-I_msYkJLw"
   },
   "outputs": [],
   "source": [
    "#Une dépendance du prétraitement pour les entrées BERT\n",
    "!pip install -q -U \"tensorflow-text==2.8.*\""
   ]
  },
  {
   "cell_type": "code",
   "execution_count": null,
   "metadata": {
    "id": "KvCKe5zFlMAy"
   },
   "outputs": [],
   "source": [
    "#Les dépendance pour représenter architecture complete du modèle\n",
    "!apt-get -qq install -y graphviz && pip install pydot"
   ]
  },
  {
   "cell_type": "code",
   "execution_count": null,
   "metadata": {
    "id": "hhaTLfnvkLPC"
   },
   "outputs": [],
   "source": [
    "#C'est de cette bibliothèque que nous allons prendre notre optimiseur AdamW\n",
    "!pip install -q tf-models-official==2.7.0"
   ]
  },
  {
   "cell_type": "markdown",
   "metadata": {
    "id": "qivUGiAMNVCw"
   },
   "source": [
    "On importe les différentes bibliothèques qui nous seront utile"
   ]
  },
  {
   "cell_type": "code",
   "execution_count": null,
   "metadata": {
    "id": "kdp15VOhV0Z_"
   },
   "outputs": [],
   "source": [
    "import os\n",
    "import shutil\n",
    "\n",
    "import tensorflow as tf\n",
    "import tensorflow_hub as hub\n",
    "import tensorflow_text as text\n",
    "from official.nlp import optimization  # to create AdamW optimizer\n",
    "import pandas as pd\n",
    "import numpy as np\n",
    "from sklearn.model_selection import train_test_split\n",
    "from sklearn.utils import shuffle\n",
    "import matplotlib.pyplot as plt\n",
    "import seaborn as sns\n",
    "from sklearn.metrics import confusion_matrix, roc_auc_score, recall_score, precision_score, classification_report\n",
    "\n",
    "import matplotlib.pyplot as plt\n",
    "\n",
    "tf.get_logger().setLevel('ERROR')"
   ]
  },
  {
   "cell_type": "code",
   "execution_count": null,
   "metadata": {
    "id": "-p8EkJA8npUK"
   },
   "outputs": [],
   "source": [
    "import pandas as pd\n",
    "import numpy as np"
   ]
  },
  {
   "cell_type": "markdown",
   "metadata": {
    "id": "MsMUXujhNjIt"
   },
   "source": [
    "On récupere et importe notre jeu de données"
   ]
  },
  {
   "cell_type": "code",
   "execution_count": null,
   "metadata": {
    "colab": {
     "base_uri": "https://localhost:8080/"
    },
    "id": "vQUnqiiwu7hs",
    "outputId": "fb678531-3c0f-4b32-824f-5433c253351f"
   },
   "outputs": [
    {
     "name": "stdout",
     "output_type": "stream",
     "text": [
      "Mounted at /content/drive\n"
     ]
    }
   ],
   "source": [
    "from google.colab import drive\n",
    "drive.mount('/content/drive')"
   ]
  },
  {
   "cell_type": "code",
   "execution_count": null,
   "metadata": {
    "id": "uI4Oz2o6l2iG"
   },
   "outputs": [],
   "source": [
    "path=\"/content/drive/MyDrive/Colab Notebooks/french_tweets.csv\"\n",
    "df = pd.read_csv(path)"
   ]
  },
  {
   "cell_type": "code",
   "execution_count": null,
   "metadata": {
    "colab": {
     "base_uri": "https://localhost:8080/",
     "height": 424
    },
    "id": "ITJATLLMqXGn",
    "outputId": "087749d7-2ad4-4029-d537-bf33924695a5"
   },
   "outputs": [
    {
     "data": {
      "text/html": [
       "\n",
       "  <div id=\"df-da9057ed-eb3a-4880-9368-8f2df8cd73f6\">\n",
       "    <div class=\"colab-df-container\">\n",
       "      <div>\n",
       "<style scoped>\n",
       "    .dataframe tbody tr th:only-of-type {\n",
       "        vertical-align: middle;\n",
       "    }\n",
       "\n",
       "    .dataframe tbody tr th {\n",
       "        vertical-align: top;\n",
       "    }\n",
       "\n",
       "    .dataframe thead th {\n",
       "        text-align: right;\n",
       "    }\n",
       "</style>\n",
       "<table border=\"1\" class=\"dataframe\">\n",
       "  <thead>\n",
       "    <tr style=\"text-align: right;\">\n",
       "      <th></th>\n",
       "      <th>label</th>\n",
       "      <th>text</th>\n",
       "    </tr>\n",
       "  </thead>\n",
       "  <tbody>\n",
       "    <tr>\n",
       "      <th>0</th>\n",
       "      <td>0</td>\n",
       "      <td>- Awww, c'est un bummer. Tu devrais avoir davi...</td>\n",
       "    </tr>\n",
       "    <tr>\n",
       "      <th>1</th>\n",
       "      <td>0</td>\n",
       "      <td>Est contrarié qu'il ne puisse pas mettre à jou...</td>\n",
       "    </tr>\n",
       "    <tr>\n",
       "      <th>2</th>\n",
       "      <td>0</td>\n",
       "      <td>J'ai plongé plusieurs fois pour la balle. A ré...</td>\n",
       "    </tr>\n",
       "    <tr>\n",
       "      <th>3</th>\n",
       "      <td>0</td>\n",
       "      <td>Tout mon corps a des démangeaisons et comme si...</td>\n",
       "    </tr>\n",
       "    <tr>\n",
       "      <th>4</th>\n",
       "      <td>0</td>\n",
       "      <td>Non, il ne se comporte pas du tout. je suis en...</td>\n",
       "    </tr>\n",
       "    <tr>\n",
       "      <th>...</th>\n",
       "      <td>...</td>\n",
       "      <td>...</td>\n",
       "    </tr>\n",
       "    <tr>\n",
       "      <th>1526719</th>\n",
       "      <td>1</td>\n",
       "      <td>Oui, cela fonctionne mieux que de l'attendre à...</td>\n",
       "    </tr>\n",
       "    <tr>\n",
       "      <th>1526720</th>\n",
       "      <td>1</td>\n",
       "      <td>Je viens de me réveiller. Ne pas avoir d'école...</td>\n",
       "    </tr>\n",
       "    <tr>\n",
       "      <th>1526721</th>\n",
       "      <td>1</td>\n",
       "      <td>Thewdb.com - très cool d'entendre les vieilles...</td>\n",
       "    </tr>\n",
       "    <tr>\n",
       "      <th>1526722</th>\n",
       "      <td>1</td>\n",
       "      <td>Êtes-vous prêt pour votre mojo makeover? Deman...</td>\n",
       "    </tr>\n",
       "    <tr>\n",
       "      <th>1526723</th>\n",
       "      <td>1</td>\n",
       "      <td>Joyeux 38ème anniversaire à mon livre de tous ...</td>\n",
       "    </tr>\n",
       "  </tbody>\n",
       "</table>\n",
       "<p>1526724 rows × 2 columns</p>\n",
       "</div>\n",
       "      <button class=\"colab-df-convert\" onclick=\"convertToInteractive('df-da9057ed-eb3a-4880-9368-8f2df8cd73f6')\"\n",
       "              title=\"Convert this dataframe to an interactive table.\"\n",
       "              style=\"display:none;\">\n",
       "        \n",
       "  <svg xmlns=\"http://www.w3.org/2000/svg\" height=\"24px\"viewBox=\"0 0 24 24\"\n",
       "       width=\"24px\">\n",
       "    <path d=\"M0 0h24v24H0V0z\" fill=\"none\"/>\n",
       "    <path d=\"M18.56 5.44l.94 2.06.94-2.06 2.06-.94-2.06-.94-.94-2.06-.94 2.06-2.06.94zm-11 1L8.5 8.5l.94-2.06 2.06-.94-2.06-.94L8.5 2.5l-.94 2.06-2.06.94zm10 10l.94 2.06.94-2.06 2.06-.94-2.06-.94-.94-2.06-.94 2.06-2.06.94z\"/><path d=\"M17.41 7.96l-1.37-1.37c-.4-.4-.92-.59-1.43-.59-.52 0-1.04.2-1.43.59L10.3 9.45l-7.72 7.72c-.78.78-.78 2.05 0 2.83L4 21.41c.39.39.9.59 1.41.59.51 0 1.02-.2 1.41-.59l7.78-7.78 2.81-2.81c.8-.78.8-2.07 0-2.86zM5.41 20L4 18.59l7.72-7.72 1.47 1.35L5.41 20z\"/>\n",
       "  </svg>\n",
       "      </button>\n",
       "      \n",
       "  <style>\n",
       "    .colab-df-container {\n",
       "      display:flex;\n",
       "      flex-wrap:wrap;\n",
       "      gap: 12px;\n",
       "    }\n",
       "\n",
       "    .colab-df-convert {\n",
       "      background-color: #E8F0FE;\n",
       "      border: none;\n",
       "      border-radius: 50%;\n",
       "      cursor: pointer;\n",
       "      display: none;\n",
       "      fill: #1967D2;\n",
       "      height: 32px;\n",
       "      padding: 0 0 0 0;\n",
       "      width: 32px;\n",
       "    }\n",
       "\n",
       "    .colab-df-convert:hover {\n",
       "      background-color: #E2EBFA;\n",
       "      box-shadow: 0px 1px 2px rgba(60, 64, 67, 0.3), 0px 1px 3px 1px rgba(60, 64, 67, 0.15);\n",
       "      fill: #174EA6;\n",
       "    }\n",
       "\n",
       "    [theme=dark] .colab-df-convert {\n",
       "      background-color: #3B4455;\n",
       "      fill: #D2E3FC;\n",
       "    }\n",
       "\n",
       "    [theme=dark] .colab-df-convert:hover {\n",
       "      background-color: #434B5C;\n",
       "      box-shadow: 0px 1px 3px 1px rgba(0, 0, 0, 0.15);\n",
       "      filter: drop-shadow(0px 1px 2px rgba(0, 0, 0, 0.3));\n",
       "      fill: #FFFFFF;\n",
       "    }\n",
       "  </style>\n",
       "\n",
       "      <script>\n",
       "        const buttonEl =\n",
       "          document.querySelector('#df-da9057ed-eb3a-4880-9368-8f2df8cd73f6 button.colab-df-convert');\n",
       "        buttonEl.style.display =\n",
       "          google.colab.kernel.accessAllowed ? 'block' : 'none';\n",
       "\n",
       "        async function convertToInteractive(key) {\n",
       "          const element = document.querySelector('#df-da9057ed-eb3a-4880-9368-8f2df8cd73f6');\n",
       "          const dataTable =\n",
       "            await google.colab.kernel.invokeFunction('convertToInteractive',\n",
       "                                                     [key], {});\n",
       "          if (!dataTable) return;\n",
       "\n",
       "          const docLinkHtml = 'Like what you see? Visit the ' +\n",
       "            '<a target=\"_blank\" href=https://colab.research.google.com/notebooks/data_table.ipynb>data table notebook</a>'\n",
       "            + ' to learn more about interactive tables.';\n",
       "          element.innerHTML = '';\n",
       "          dataTable['output_type'] = 'display_data';\n",
       "          await google.colab.output.renderOutput(dataTable, element);\n",
       "          const docLink = document.createElement('div');\n",
       "          docLink.innerHTML = docLinkHtml;\n",
       "          element.appendChild(docLink);\n",
       "        }\n",
       "      </script>\n",
       "    </div>\n",
       "  </div>\n",
       "  "
      ],
      "text/plain": [
       "         label                                               text\n",
       "0            0  - Awww, c'est un bummer. Tu devrais avoir davi...\n",
       "1            0  Est contrarié qu'il ne puisse pas mettre à jou...\n",
       "2            0  J'ai plongé plusieurs fois pour la balle. A ré...\n",
       "3            0  Tout mon corps a des démangeaisons et comme si...\n",
       "4            0  Non, il ne se comporte pas du tout. je suis en...\n",
       "...        ...                                                ...\n",
       "1526719      1  Oui, cela fonctionne mieux que de l'attendre à...\n",
       "1526720      1  Je viens de me réveiller. Ne pas avoir d'école...\n",
       "1526721      1  Thewdb.com - très cool d'entendre les vieilles...\n",
       "1526722      1  Êtes-vous prêt pour votre mojo makeover? Deman...\n",
       "1526723      1  Joyeux 38ème anniversaire à mon livre de tous ...\n",
       "\n",
       "[1526724 rows x 2 columns]"
      ]
     },
     "execution_count": 8,
     "metadata": {},
     "output_type": "execute_result"
    }
   ],
   "source": [
    "df"
   ]
  },
  {
   "cell_type": "markdown",
   "metadata": {
    "id": "INqp-Hc0NvK2"
   },
   "source": [
    "On observe la distribution des données"
   ]
  },
  {
   "cell_type": "code",
   "execution_count": null,
   "metadata": {
    "colab": {
     "base_uri": "https://localhost:8080/",
     "height": 295
    },
    "id": "Lqxxun_yc3f-",
    "outputId": "1d9e02b0-dbd0-4a57-ce48-78241db1b918"
   },
   "outputs": [
    {
     "data": {
      "image/png": "[encoded data removed]",
      "text/plain": [
       "<Figure size 432x288 with 1 Axes>"
      ]
     },
     "metadata": {
      "needs_background": "light"
     },
     "output_type": "display_data"
    }
   ],
   "source": [
    "# Plotting the distribution for dataset.\n",
    "ax = df.groupby('label').count().plot(kind='bar', title='Distribution of data',legend=False)\n",
    "ax.set_xticklabels(['Negative','Positive'], rotation=0)\n",
    "# Storing data in lists.\n",
    "text, sentiment = list(df['text']), list(df['label'])"
   ]
  },
  {
   "cell_type": "markdown",
   "metadata": {
    "id": "btHSoSIVN8Ro"
   },
   "source": [
    "On utilisera uniquement 56000 enregistrements de notre dataset pour des raisons de performances puis on divise notre nouveau jeu de données en trois parti: 20000pour l'entrainement, 30000 pour le test et 6000 pour la validation"
   ]
  },
  {
   "cell_type": "code",
   "execution_count": null,
   "metadata": {
    "colab": {
     "base_uri": "https://localhost:8080/",
     "height": 830
    },
    "id": "0KBoU0Xlc8z0",
    "outputId": "0054a4bb-36e8-4499-e360-51fcc2d876c5"
   },
   "outputs": [
    {
     "data": {
      "text/html": [
       "\n",
       "  <div id=\"df-c35a811a-ce34-4818-a319-752e9791b0bf\">\n",
       "    <div class=\"colab-df-container\">\n",
       "      <div>\n",
       "<style scoped>\n",
       "    .dataframe tbody tr th:only-of-type {\n",
       "        vertical-align: middle;\n",
       "    }\n",
       "\n",
       "    .dataframe tbody tr th {\n",
       "        vertical-align: top;\n",
       "    }\n",
       "\n",
       "    .dataframe thead th {\n",
       "        text-align: right;\n",
       "    }\n",
       "</style>\n",
       "<table border=\"1\" class=\"dataframe\">\n",
       "  <thead>\n",
       "    <tr style=\"text-align: right;\">\n",
       "      <th></th>\n",
       "      <th>text</th>\n",
       "      <th>label</th>\n",
       "    </tr>\n",
       "  </thead>\n",
       "  <tbody>\n",
       "    <tr>\n",
       "      <th>0</th>\n",
       "      <td>Essayant de configurer des canaux de Yahoo pou...</td>\n",
       "      <td>1</td>\n",
       "    </tr>\n",
       "    <tr>\n",
       "      <th>1</th>\n",
       "      <td>J'ai tendance à mordre le dessus, lécher et le...</td>\n",
       "      <td>1</td>\n",
       "    </tr>\n",
       "    <tr>\n",
       "      <th>2</th>\n",
       "      <td>J'avais l'habitude de le faire à uni. Je viens...</td>\n",
       "      <td>1</td>\n",
       "    </tr>\n",
       "    <tr>\n",
       "      <th>3</th>\n",
       "      <td>Pas mal mate, continuez bien</td>\n",
       "      <td>1</td>\n",
       "    </tr>\n",
       "    <tr>\n",
       "      <th>4</th>\n",
       "      <td>Écrit sur Twitter ..... et espère que tout le ...</td>\n",
       "      <td>1</td>\n",
       "    </tr>\n",
       "    <tr>\n",
       "      <th>...</th>\n",
       "      <td>...</td>\n",
       "      <td>...</td>\n",
       "    </tr>\n",
       "    <tr>\n",
       "      <th>49995</th>\n",
       "      <td>Huhu, clickbank ne permet pas aux utilisateurs...</td>\n",
       "      <td>0</td>\n",
       "    </tr>\n",
       "    <tr>\n",
       "      <th>49996</th>\n",
       "      <td>J'aurais aimé que je l'avais fait ... mon père...</td>\n",
       "      <td>0</td>\n",
       "    </tr>\n",
       "    <tr>\n",
       "      <th>49997</th>\n",
       "      <td>Départ pour troy pour le jour / nuit ... denti...</td>\n",
       "      <td>0</td>\n",
       "    </tr>\n",
       "    <tr>\n",
       "      <th>49998</th>\n",
       "      <td>Se sent indubitablement stupide pour avoir lai...</td>\n",
       "      <td>0</td>\n",
       "    </tr>\n",
       "    <tr>\n",
       "      <th>49999</th>\n",
       "      <td>Se sent mieux mais encore un peu triste.</td>\n",
       "      <td>0</td>\n",
       "    </tr>\n",
       "  </tbody>\n",
       "</table>\n",
       "<p>50000 rows × 2 columns</p>\n",
       "</div>\n",
       "      <button class=\"colab-df-convert\" onclick=\"convertToInteractive('df-c35a811a-ce34-4818-a319-752e9791b0bf')\"\n",
       "              title=\"Convert this dataframe to an interactive table.\"\n",
       "              style=\"display:none;\">\n",
       "        \n",
       "  <svg xmlns=\"http://www.w3.org/2000/svg\" height=\"24px\"viewBox=\"0 0 24 24\"\n",
       "       width=\"24px\">\n",
       "    <path d=\"M0 0h24v24H0V0z\" fill=\"none\"/>\n",
       "    <path d=\"M18.56 5.44l.94 2.06.94-2.06 2.06-.94-2.06-.94-.94-2.06-.94 2.06-2.06.94zm-11 1L8.5 8.5l.94-2.06 2.06-.94-2.06-.94L8.5 2.5l-.94 2.06-2.06.94zm10 10l.94 2.06.94-2.06 2.06-.94-2.06-.94-.94-2.06-.94 2.06-2.06.94z\"/><path d=\"M17.41 7.96l-1.37-1.37c-.4-.4-.92-.59-1.43-.59-.52 0-1.04.2-1.43.59L10.3 9.45l-7.72 7.72c-.78.78-.78 2.05 0 2.83L4 21.41c.39.39.9.59 1.41.59.51 0 1.02-.2 1.41-.59l7.78-7.78 2.81-2.81c.8-.78.8-2.07 0-2.86zM5.41 20L4 18.59l7.72-7.72 1.47 1.35L5.41 20z\"/>\n",
       "  </svg>\n",
       "      </button>\n",
       "      \n",
       "  <style>\n",
       "    .colab-df-container {\n",
       "      display:flex;\n",
       "      flex-wrap:wrap;\n",
       "      gap: 12px;\n",
       "    }\n",
       "\n",
       "    .colab-df-convert {\n",
       "      background-color: #E8F0FE;\n",
       "      border: none;\n",
       "      border-radius: 50%;\n",
       "      cursor: pointer;\n",
       "      display: none;\n",
       "      fill: #1967D2;\n",
       "      height: 32px;\n",
       "      padding: 0 0 0 0;\n",
       "      width: 32px;\n",
       "    }\n",
       "\n",
       "    .colab-df-convert:hover {\n",
       "      background-color: #E2EBFA;\n",
       "      box-shadow: 0px 1px 2px rgba(60, 64, 67, 0.3), 0px 1px 3px 1px rgba(60, 64, 67, 0.15);\n",
       "      fill: #174EA6;\n",
       "    }\n",
       "\n",
       "    [theme=dark] .colab-df-convert {\n",
       "      background-color: #3B4455;\n",
       "      fill: #D2E3FC;\n",
       "    }\n",
       "\n",
       "    [theme=dark] .colab-df-convert:hover {\n",
       "      background-color: #434B5C;\n",
       "      box-shadow: 0px 1px 3px 1px rgba(0, 0, 0, 0.15);\n",
       "      filter: drop-shadow(0px 1px 2px rgba(0, 0, 0, 0.3));\n",
       "      fill: #FFFFFF;\n",
       "    }\n",
       "  </style>\n",
       "\n",
       "      <script>\n",
       "        const buttonEl =\n",
       "          document.querySelector('#df-c35a811a-ce34-4818-a319-752e9791b0bf button.colab-df-convert');\n",
       "        buttonEl.style.display =\n",
       "          google.colab.kernel.accessAllowed ? 'block' : 'none';\n",
       "\n",
       "        async function convertToInteractive(key) {\n",
       "          const element = document.querySelector('#df-c35a811a-ce34-4818-a319-752e9791b0bf');\n",
       "          const dataTable =\n",
       "            await google.colab.kernel.invokeFunction('convertToInteractive',\n",
       "                                                     [key], {});\n",
       "          if (!dataTable) return;\n",
       "\n",
       "          const docLinkHtml = 'Like what you see? Visit the ' +\n",
       "            '<a target=\"_blank\" href=https://colab.research.google.com/notebooks/data_table.ipynb>data table notebook</a>'\n",
       "            + ' to learn more about interactive tables.';\n",
       "          element.innerHTML = '';\n",
       "          dataTable['output_type'] = 'display_data';\n",
       "          await google.colab.output.renderOutput(dataTable, element);\n",
       "          const docLink = document.createElement('div');\n",
       "          docLink.innerHTML = docLinkHtml;\n",
       "          element.appendChild(docLink);\n",
       "        }\n",
       "      </script>\n",
       "    </div>\n",
       "  </div>\n",
       "  "
      ],
      "text/plain": [
       "                                                    text  label\n",
       "0      Essayant de configurer des canaux de Yahoo pou...      1\n",
       "1      J'ai tendance à mordre le dessus, lécher et le...      1\n",
       "2      J'avais l'habitude de le faire à uni. Je viens...      1\n",
       "3                           Pas mal mate, continuez bien      1\n",
       "4      Écrit sur Twitter ..... et espère que tout le ...      1\n",
       "...                                                  ...    ...\n",
       "49995  Huhu, clickbank ne permet pas aux utilisateurs...      0\n",
       "49996  J'aurais aimé que je l'avais fait ... mon père...      0\n",
       "49997  Départ pour troy pour le jour / nuit ... denti...      0\n",
       "49998  Se sent indubitablement stupide pour avoir lai...      0\n",
       "49999           Se sent mieux mais encore un peu triste.      0\n",
       "\n",
       "[50000 rows x 2 columns]"
      ]
     },
     "metadata": {},
     "output_type": "display_data"
    },
    {
     "data": {
      "text/html": [
       "\n",
       "  <div id=\"df-8a46dfd0-c217-4aa6-9336-a85bc8f1eec5\">\n",
       "    <div class=\"colab-df-container\">\n",
       "      <div>\n",
       "<style scoped>\n",
       "    .dataframe tbody tr th:only-of-type {\n",
       "        vertical-align: middle;\n",
       "    }\n",
       "\n",
       "    .dataframe tbody tr th {\n",
       "        vertical-align: top;\n",
       "    }\n",
       "\n",
       "    .dataframe thead th {\n",
       "        text-align: right;\n",
       "    }\n",
       "</style>\n",
       "<table border=\"1\" class=\"dataframe\">\n",
       "  <thead>\n",
       "    <tr style=\"text-align: right;\">\n",
       "      <th></th>\n",
       "      <th>text</th>\n",
       "      <th>label</th>\n",
       "    </tr>\n",
       "  </thead>\n",
       "  <tbody>\n",
       "    <tr>\n",
       "      <th>0</th>\n",
       "      <td>Je vous aime, les gars sont les meilleurs!</td>\n",
       "      <td>1</td>\n",
       "    </tr>\n",
       "    <tr>\n",
       "      <th>1</th>\n",
       "      <td>Je me retrouve avec un de mes besties ce soir!...</td>\n",
       "      <td>1</td>\n",
       "    </tr>\n",
       "    <tr>\n",
       "      <th>2</th>\n",
       "      <td>Merci pour l'ajout de Twitter, sunisa! Je dois...</td>\n",
       "      <td>1</td>\n",
       "    </tr>\n",
       "    <tr>\n",
       "      <th>3</th>\n",
       "      <td>Être malade peut être vraiment bon marché quan...</td>\n",
       "      <td>1</td>\n",
       "    </tr>\n",
       "    <tr>\n",
       "      <th>4</th>\n",
       "      <td>Il a cet effet sur tout le monde</td>\n",
       "      <td>1</td>\n",
       "    </tr>\n",
       "    <tr>\n",
       "      <th>...</th>\n",
       "      <td>...</td>\n",
       "      <td>...</td>\n",
       "    </tr>\n",
       "    <tr>\n",
       "      <th>5995</th>\n",
       "      <td>Lol, homme fou ... hahaha ... monsieur, je vai...</td>\n",
       "      <td>0</td>\n",
       "    </tr>\n",
       "    <tr>\n",
       "      <th>5996</th>\n",
       "      <td>Essayant de s'habituer à ce twitter sur lequel...</td>\n",
       "      <td>0</td>\n",
       "    </tr>\n",
       "    <tr>\n",
       "      <th>5997</th>\n",
       "      <td>omg ... mon chargeur de batterie Acer Aspire 5...</td>\n",
       "      <td>0</td>\n",
       "    </tr>\n",
       "    <tr>\n",
       "      <th>5998</th>\n",
       "      <td>Une autre belle journée. Les oiseaux chantent ...</td>\n",
       "      <td>0</td>\n",
       "    </tr>\n",
       "    <tr>\n",
       "      <th>5999</th>\n",
       "      <td>C'est vrai que miley. Haha. Je veux un petit ami.</td>\n",
       "      <td>0</td>\n",
       "    </tr>\n",
       "  </tbody>\n",
       "</table>\n",
       "<p>6000 rows × 2 columns</p>\n",
       "</div>\n",
       "      <button class=\"colab-df-convert\" onclick=\"convertToInteractive('df-8a46dfd0-c217-4aa6-9336-a85bc8f1eec5')\"\n",
       "              title=\"Convert this dataframe to an interactive table.\"\n",
       "              style=\"display:none;\">\n",
       "        \n",
       "  <svg xmlns=\"http://www.w3.org/2000/svg\" height=\"24px\"viewBox=\"0 0 24 24\"\n",
       "       width=\"24px\">\n",
       "    <path d=\"M0 0h24v24H0V0z\" fill=\"none\"/>\n",
       "    <path d=\"M18.56 5.44l.94 2.06.94-2.06 2.06-.94-2.06-.94-.94-2.06-.94 2.06-2.06.94zm-11 1L8.5 8.5l.94-2.06 2.06-.94-2.06-.94L8.5 2.5l-.94 2.06-2.06.94zm10 10l.94 2.06.94-2.06 2.06-.94-2.06-.94-.94-2.06-.94 2.06-2.06.94z\"/><path d=\"M17.41 7.96l-1.37-1.37c-.4-.4-.92-.59-1.43-.59-.52 0-1.04.2-1.43.59L10.3 9.45l-7.72 7.72c-.78.78-.78 2.05 0 2.83L4 21.41c.39.39.9.59 1.41.59.51 0 1.02-.2 1.41-.59l7.78-7.78 2.81-2.81c.8-.78.8-2.07 0-2.86zM5.41 20L4 18.59l7.72-7.72 1.47 1.35L5.41 20z\"/>\n",
       "  </svg>\n",
       "      </button>\n",
       "      \n",
       "  <style>\n",
       "    .colab-df-container {\n",
       "      display:flex;\n",
       "      flex-wrap:wrap;\n",
       "      gap: 12px;\n",
       "    }\n",
       "\n",
       "    .colab-df-convert {\n",
       "      background-color: #E8F0FE;\n",
       "      border: none;\n",
       "      border-radius: 50%;\n",
       "      cursor: pointer;\n",
       "      display: none;\n",
       "      fill: #1967D2;\n",
       "      height: 32px;\n",
       "      padding: 0 0 0 0;\n",
       "      width: 32px;\n",
       "    }\n",
       "\n",
       "    .colab-df-convert:hover {\n",
       "      background-color: #E2EBFA;\n",
       "      box-shadow: 0px 1px 2px rgba(60, 64, 67, 0.3), 0px 1px 3px 1px rgba(60, 64, 67, 0.15);\n",
       "      fill: #174EA6;\n",
       "    }\n",
       "\n",
       "    [theme=dark] .colab-df-convert {\n",
       "      background-color: #3B4455;\n",
       "      fill: #D2E3FC;\n",
       "    }\n",
       "\n",
       "    [theme=dark] .colab-df-convert:hover {\n",
       "      background-color: #434B5C;\n",
       "      box-shadow: 0px 1px 3px 1px rgba(0, 0, 0, 0.15);\n",
       "      filter: drop-shadow(0px 1px 2px rgba(0, 0, 0, 0.3));\n",
       "      fill: #FFFFFF;\n",
       "    }\n",
       "  </style>\n",
       "\n",
       "      <script>\n",
       "        const buttonEl =\n",
       "          document.querySelector('#df-8a46dfd0-c217-4aa6-9336-a85bc8f1eec5 button.colab-df-convert');\n",
       "        buttonEl.style.display =\n",
       "          google.colab.kernel.accessAllowed ? 'block' : 'none';\n",
       "\n",
       "        async function convertToInteractive(key) {\n",
       "          const element = document.querySelector('#df-8a46dfd0-c217-4aa6-9336-a85bc8f1eec5');\n",
       "          const dataTable =\n",
       "            await google.colab.kernel.invokeFunction('convertToInteractive',\n",
       "                                                     [key], {});\n",
       "          if (!dataTable) return;\n",
       "\n",
       "          const docLinkHtml = 'Like what you see? Visit the ' +\n",
       "            '<a target=\"_blank\" href=https://colab.research.google.com/notebooks/data_table.ipynb>data table notebook</a>'\n",
       "            + ' to learn more about interactive tables.';\n",
       "          element.innerHTML = '';\n",
       "          dataTable['output_type'] = 'display_data';\n",
       "          await google.colab.output.renderOutput(dataTable, element);\n",
       "          const docLink = document.createElement('div');\n",
       "          docLink.innerHTML = docLinkHtml;\n",
       "          element.appendChild(docLink);\n",
       "        }\n",
       "      </script>\n",
       "    </div>\n",
       "  </div>\n",
       "  "
      ],
      "text/plain": [
       "                                                   text  label\n",
       "0            Je vous aime, les gars sont les meilleurs!      1\n",
       "1     Je me retrouve avec un de mes besties ce soir!...      1\n",
       "2     Merci pour l'ajout de Twitter, sunisa! Je dois...      1\n",
       "3     Être malade peut être vraiment bon marché quan...      1\n",
       "4                      Il a cet effet sur tout le monde      1\n",
       "...                                                 ...    ...\n",
       "5995  Lol, homme fou ... hahaha ... monsieur, je vai...      0\n",
       "5996  Essayant de s'habituer à ce twitter sur lequel...      0\n",
       "5997  omg ... mon chargeur de batterie Acer Aspire 5...      0\n",
       "5998  Une autre belle journée. Les oiseaux chantent ...      0\n",
       "5999  C'est vrai que miley. Haha. Je veux un petit ami.      0\n",
       "\n",
       "[6000 rows x 2 columns]"
      ]
     },
     "metadata": {},
     "output_type": "display_data"
    }
   ],
   "source": [
    "df_neg = df[df[\"label\"]==0]\n",
    "df_neg = df_neg.iloc[:30000]\n",
    "df_pos = df[df[\"label\"]==1]\n",
    "df_pos = df_pos.iloc[:30000]\n",
    "trainTest_ds_neg = df_neg.iloc[:25000,]\n",
    "trainTest_ds_pos = df_pos.iloc[5000:,]\n",
    "trainTest_ds = pd.concat([trainTest_ds_pos, trainTest_ds_neg], ignore_index=True)\n",
    "val_ds_neg = df_neg.iloc[27000:,]\n",
    "val_ds_pos = df_pos.iloc[:3000,]\n",
    "val_ds = pd.concat([val_ds_pos, val_ds_neg], ignore_index=True)\n",
    "val_ds = val_ds.reindex(columns=['text','label'])\n",
    "trainTest_ds = trainTest_ds.reindex(columns=['text','label'])\n",
    "display(trainTest_ds)\n",
    "display(val_ds)"
   ]
  },
  {
   "cell_type": "code",
   "execution_count": null,
   "metadata": {
    "id": "LMkOdPwXekAQ"
   },
   "outputs": [],
   "source": [
    "train_ds, test_ds = train_test_split(trainTest_ds, test_size=0.6, random_state=42, shuffle=True, stratify=trainTest_ds.label)"
   ]
  },
  {
   "cell_type": "code",
   "execution_count": null,
   "metadata": {
    "colab": {
     "base_uri": "https://localhost:8080/",
     "height": 424
    },
    "id": "4_OfyrQ_emJp",
    "outputId": "fd1ad875-6da2-40f1-8939-67c078b32e81"
   },
   "outputs": [
    {
     "data": {
      "text/html": [
       "\n",
       "  <div id=\"df-90fbe8dc-4bfd-405b-a2b6-fd06d57e14c3\">\n",
       "    <div class=\"colab-df-container\">\n",
       "      <div>\n",
       "<style scoped>\n",
       "    .dataframe tbody tr th:only-of-type {\n",
       "        vertical-align: middle;\n",
       "    }\n",
       "\n",
       "    .dataframe tbody tr th {\n",
       "        vertical-align: top;\n",
       "    }\n",
       "\n",
       "    .dataframe thead th {\n",
       "        text-align: right;\n",
       "    }\n",
       "</style>\n",
       "<table border=\"1\" class=\"dataframe\">\n",
       "  <thead>\n",
       "    <tr style=\"text-align: right;\">\n",
       "      <th></th>\n",
       "      <th>text</th>\n",
       "      <th>label</th>\n",
       "    </tr>\n",
       "  </thead>\n",
       "  <tbody>\n",
       "    <tr>\n",
       "      <th>0</th>\n",
       "      <td>C'était génial de vous rencontrer aussi! Je su...</td>\n",
       "      <td>0</td>\n",
       "    </tr>\n",
       "    <tr>\n",
       "      <th>1</th>\n",
       "      <td>Ce n'est pas des bombes t-shirts.</td>\n",
       "      <td>0</td>\n",
       "    </tr>\n",
       "    <tr>\n",
       "      <th>2</th>\n",
       "      <td>Retour de Grèce ... je veux revenir en arrière</td>\n",
       "      <td>0</td>\n",
       "    </tr>\n",
       "    <tr>\n",
       "      <th>3</th>\n",
       "      <td>Whatsapp twitters .....</td>\n",
       "      <td>0</td>\n",
       "    </tr>\n",
       "    <tr>\n",
       "      <th>4</th>\n",
       "      <td>En regardant un dernier épisode de docteur qui...</td>\n",
       "      <td>0</td>\n",
       "    </tr>\n",
       "    <tr>\n",
       "      <th>...</th>\n",
       "      <td>...</td>\n",
       "      <td>...</td>\n",
       "    </tr>\n",
       "    <tr>\n",
       "      <th>19995</th>\n",
       "      <td>Mes cheveux manquent. 5 pouces de ça .... mais...</td>\n",
       "      <td>0</td>\n",
       "    </tr>\n",
       "    <tr>\n",
       "      <th>19996</th>\n",
       "      <td>Jour incroyable ... tailgating et journée à bo...</td>\n",
       "      <td>1</td>\n",
       "    </tr>\n",
       "    <tr>\n",
       "      <th>19997</th>\n",
       "      <td>Est triste que becca ne va pas au spectacle de...</td>\n",
       "      <td>0</td>\n",
       "    </tr>\n",
       "    <tr>\n",
       "      <th>19998</th>\n",
       "      <td>L'amour de ma vie a tourné 23 la semaine derni...</td>\n",
       "      <td>0</td>\n",
       "    </tr>\n",
       "    <tr>\n",
       "      <th>19999</th>\n",
       "      <td>vas-y meuf! Branchez-moi avec quelque chose, j...</td>\n",
       "      <td>1</td>\n",
       "    </tr>\n",
       "  </tbody>\n",
       "</table>\n",
       "<p>20000 rows × 2 columns</p>\n",
       "</div>\n",
       "      <button class=\"colab-df-convert\" onclick=\"convertToInteractive('df-90fbe8dc-4bfd-405b-a2b6-fd06d57e14c3')\"\n",
       "              title=\"Convert this dataframe to an interactive table.\"\n",
       "              style=\"display:none;\">\n",
       "        \n",
       "  <svg xmlns=\"http://www.w3.org/2000/svg\" height=\"24px\"viewBox=\"0 0 24 24\"\n",
       "       width=\"24px\">\n",
       "    <path d=\"M0 0h24v24H0V0z\" fill=\"none\"/>\n",
       "    <path d=\"M18.56 5.44l.94 2.06.94-2.06 2.06-.94-2.06-.94-.94-2.06-.94 2.06-2.06.94zm-11 1L8.5 8.5l.94-2.06 2.06-.94-2.06-.94L8.5 2.5l-.94 2.06-2.06.94zm10 10l.94 2.06.94-2.06 2.06-.94-2.06-.94-.94-2.06-.94 2.06-2.06.94z\"/><path d=\"M17.41 7.96l-1.37-1.37c-.4-.4-.92-.59-1.43-.59-.52 0-1.04.2-1.43.59L10.3 9.45l-7.72 7.72c-.78.78-.78 2.05 0 2.83L4 21.41c.39.39.9.59 1.41.59.51 0 1.02-.2 1.41-.59l7.78-7.78 2.81-2.81c.8-.78.8-2.07 0-2.86zM5.41 20L4 18.59l7.72-7.72 1.47 1.35L5.41 20z\"/>\n",
       "  </svg>\n",
       "      </button>\n",
       "      \n",
       "  <style>\n",
       "    .colab-df-container {\n",
       "      display:flex;\n",
       "      flex-wrap:wrap;\n",
       "      gap: 12px;\n",
       "    }\n",
       "\n",
       "    .colab-df-convert {\n",
       "      background-color: #E8F0FE;\n",
       "      border: none;\n",
       "      border-radius: 50%;\n",
       "      cursor: pointer;\n",
       "      display: none;\n",
       "      fill: #1967D2;\n",
       "      height: 32px;\n",
       "      padding: 0 0 0 0;\n",
       "      width: 32px;\n",
       "    }\n",
       "\n",
       "    .colab-df-convert:hover {\n",
       "      background-color: #E2EBFA;\n",
       "      box-shadow: 0px 1px 2px rgba(60, 64, 67, 0.3), 0px 1px 3px 1px rgba(60, 64, 67, 0.15);\n",
       "      fill: #174EA6;\n",
       "    }\n",
       "\n",
       "    [theme=dark] .colab-df-convert {\n",
       "      background-color: #3B4455;\n",
       "      fill: #D2E3FC;\n",
       "    }\n",
       "\n",
       "    [theme=dark] .colab-df-convert:hover {\n",
       "      background-color: #434B5C;\n",
       "      box-shadow: 0px 1px 3px 1px rgba(0, 0, 0, 0.15);\n",
       "      filter: drop-shadow(0px 1px 2px rgba(0, 0, 0, 0.3));\n",
       "      fill: #FFFFFF;\n",
       "    }\n",
       "  </style>\n",
       "\n",
       "      <script>\n",
       "        const buttonEl =\n",
       "          document.querySelector('#df-90fbe8dc-4bfd-405b-a2b6-fd06d57e14c3 button.colab-df-convert');\n",
       "        buttonEl.style.display =\n",
       "          google.colab.kernel.accessAllowed ? 'block' : 'none';\n",
       "\n",
       "        async function convertToInteractive(key) {\n",
       "          const element = document.querySelector('#df-90fbe8dc-4bfd-405b-a2b6-fd06d57e14c3');\n",
       "          const dataTable =\n",
       "            await google.colab.kernel.invokeFunction('convertToInteractive',\n",
       "                                                     [key], {});\n",
       "          if (!dataTable) return;\n",
       "\n",
       "          const docLinkHtml = 'Like what you see? Visit the ' +\n",
       "            '<a target=\"_blank\" href=https://colab.research.google.com/notebooks/data_table.ipynb>data table notebook</a>'\n",
       "            + ' to learn more about interactive tables.';\n",
       "          element.innerHTML = '';\n",
       "          dataTable['output_type'] = 'display_data';\n",
       "          await google.colab.output.renderOutput(dataTable, element);\n",
       "          const docLink = document.createElement('div');\n",
       "          docLink.innerHTML = docLinkHtml;\n",
       "          element.appendChild(docLink);\n",
       "        }\n",
       "      </script>\n",
       "    </div>\n",
       "  </div>\n",
       "  "
      ],
      "text/plain": [
       "                                                    text  label\n",
       "0      C'était génial de vous rencontrer aussi! Je su...      0\n",
       "1                      Ce n'est pas des bombes t-shirts.      0\n",
       "2         Retour de Grèce ... je veux revenir en arrière      0\n",
       "3                                Whatsapp twitters .....      0\n",
       "4      En regardant un dernier épisode de docteur qui...      0\n",
       "...                                                  ...    ...\n",
       "19995  Mes cheveux manquent. 5 pouces de ça .... mais...      0\n",
       "19996  Jour incroyable ... tailgating et journée à bo...      1\n",
       "19997  Est triste que becca ne va pas au spectacle de...      0\n",
       "19998  L'amour de ma vie a tourné 23 la semaine derni...      0\n",
       "19999  vas-y meuf! Branchez-moi avec quelque chose, j...      1\n",
       "\n",
       "[20000 rows x 2 columns]"
      ]
     },
     "execution_count": 12,
     "metadata": {},
     "output_type": "execute_result"
    }
   ],
   "source": [
    "train_ds=shuffle(train_ds).reset_index(drop=True)\n",
    "val_ds=shuffle(val_ds).reset_index(drop=True)\n",
    "test_ds=shuffle(test_ds).reset_index(drop=True)\n",
    "train_ds"
   ]
  },
  {
   "cell_type": "code",
   "execution_count": null,
   "metadata": {
    "colab": {
     "base_uri": "https://localhost:8080/",
     "height": 143
    },
    "id": "dTD97_lefE-l",
    "outputId": "38632ad6-36e7-4d58-912d-0e221da50b6b"
   },
   "outputs": [
    {
     "data": {
      "text/html": [
       "\n",
       "  <div id=\"df-b04239f1-9e47-434e-a07b-279aece8b6c4\">\n",
       "    <div class=\"colab-df-container\">\n",
       "      <div>\n",
       "<style scoped>\n",
       "    .dataframe tbody tr th:only-of-type {\n",
       "        vertical-align: middle;\n",
       "    }\n",
       "\n",
       "    .dataframe tbody tr th {\n",
       "        vertical-align: top;\n",
       "    }\n",
       "\n",
       "    .dataframe thead th {\n",
       "        text-align: right;\n",
       "    }\n",
       "</style>\n",
       "<table border=\"1\" class=\"dataframe\">\n",
       "  <thead>\n",
       "    <tr style=\"text-align: right;\">\n",
       "      <th></th>\n",
       "      <th>text</th>\n",
       "    </tr>\n",
       "    <tr>\n",
       "      <th>label</th>\n",
       "      <th></th>\n",
       "    </tr>\n",
       "  </thead>\n",
       "  <tbody>\n",
       "    <tr>\n",
       "      <th>0</th>\n",
       "      <td>10000</td>\n",
       "    </tr>\n",
       "    <tr>\n",
       "      <th>1</th>\n",
       "      <td>10000</td>\n",
       "    </tr>\n",
       "  </tbody>\n",
       "</table>\n",
       "</div>\n",
       "      <button class=\"colab-df-convert\" onclick=\"convertToInteractive('df-b04239f1-9e47-434e-a07b-279aece8b6c4')\"\n",
       "              title=\"Convert this dataframe to an interactive table.\"\n",
       "              style=\"display:none;\">\n",
       "        \n",
       "  <svg xmlns=\"http://www.w3.org/2000/svg\" height=\"24px\"viewBox=\"0 0 24 24\"\n",
       "       width=\"24px\">\n",
       "    <path d=\"M0 0h24v24H0V0z\" fill=\"none\"/>\n",
       "    <path d=\"M18.56 5.44l.94 2.06.94-2.06 2.06-.94-2.06-.94-.94-2.06-.94 2.06-2.06.94zm-11 1L8.5 8.5l.94-2.06 2.06-.94-2.06-.94L8.5 2.5l-.94 2.06-2.06.94zm10 10l.94 2.06.94-2.06 2.06-.94-2.06-.94-.94-2.06-.94 2.06-2.06.94z\"/><path d=\"M17.41 7.96l-1.37-1.37c-.4-.4-.92-.59-1.43-.59-.52 0-1.04.2-1.43.59L10.3 9.45l-7.72 7.72c-.78.78-.78 2.05 0 2.83L4 21.41c.39.39.9.59 1.41.59.51 0 1.02-.2 1.41-.59l7.78-7.78 2.81-2.81c.8-.78.8-2.07 0-2.86zM5.41 20L4 18.59l7.72-7.72 1.47 1.35L5.41 20z\"/>\n",
       "  </svg>\n",
       "      </button>\n",
       "      \n",
       "  <style>\n",
       "    .colab-df-container {\n",
       "      display:flex;\n",
       "      flex-wrap:wrap;\n",
       "      gap: 12px;\n",
       "    }\n",
       "\n",
       "    .colab-df-convert {\n",
       "      background-color: #E8F0FE;\n",
       "      border: none;\n",
       "      border-radius: 50%;\n",
       "      cursor: pointer;\n",
       "      display: none;\n",
       "      fill: #1967D2;\n",
       "      height: 32px;\n",
       "      padding: 0 0 0 0;\n",
       "      width: 32px;\n",
       "    }\n",
       "\n",
       "    .colab-df-convert:hover {\n",
       "      background-color: #E2EBFA;\n",
       "      box-shadow: 0px 1px 2px rgba(60, 64, 67, 0.3), 0px 1px 3px 1px rgba(60, 64, 67, 0.15);\n",
       "      fill: #174EA6;\n",
       "    }\n",
       "\n",
       "    [theme=dark] .colab-df-convert {\n",
       "      background-color: #3B4455;\n",
       "      fill: #D2E3FC;\n",
       "    }\n",
       "\n",
       "    [theme=dark] .colab-df-convert:hover {\n",
       "      background-color: #434B5C;\n",
       "      box-shadow: 0px 1px 3px 1px rgba(0, 0, 0, 0.15);\n",
       "      filter: drop-shadow(0px 1px 2px rgba(0, 0, 0, 0.3));\n",
       "      fill: #FFFFFF;\n",
       "    }\n",
       "  </style>\n",
       "\n",
       "      <script>\n",
       "        const buttonEl =\n",
       "          document.querySelector('#df-b04239f1-9e47-434e-a07b-279aece8b6c4 button.colab-df-convert');\n",
       "        buttonEl.style.display =\n",
       "          google.colab.kernel.accessAllowed ? 'block' : 'none';\n",
       "\n",
       "        async function convertToInteractive(key) {\n",
       "          const element = document.querySelector('#df-b04239f1-9e47-434e-a07b-279aece8b6c4');\n",
       "          const dataTable =\n",
       "            await google.colab.kernel.invokeFunction('convertToInteractive',\n",
       "                                                     [key], {});\n",
       "          if (!dataTable) return;\n",
       "\n",
       "          const docLinkHtml = 'Like what you see? Visit the ' +\n",
       "            '<a target=\"_blank\" href=https://colab.research.google.com/notebooks/data_table.ipynb>data table notebook</a>'\n",
       "            + ' to learn more about interactive tables.';\n",
       "          element.innerHTML = '';\n",
       "          dataTable['output_type'] = 'display_data';\n",
       "          await google.colab.output.renderOutput(dataTable, element);\n",
       "          const docLink = document.createElement('div');\n",
       "          docLink.innerHTML = docLinkHtml;\n",
       "          element.appendChild(docLink);\n",
       "        }\n",
       "      </script>\n",
       "    </div>\n",
       "  </div>\n",
       "  "
      ],
      "text/plain": [
       "        text\n",
       "label       \n",
       "0      10000\n",
       "1      10000"
      ]
     },
     "execution_count": 13,
     "metadata": {},
     "output_type": "execute_result"
    }
   ],
   "source": [
    "train_ds.groupby('label').count()"
   ]
  },
  {
   "cell_type": "markdown",
   "metadata": {
    "id": "lz-CoWmePORX"
   },
   "source": [
    "# Chargement du modèle BERT depuis Tensorflow Hub\n",
    "Ici, nous allons choisir le modèle BERT que nous allons charger à partir de TensorFlow Hub et le régler avec précision. Il existe plusieurs modèles BERT disponibles et consultable à sur https://tfhub.dev/google/collections/bert/1\n",
    "\n",
    "Etant données qu'on souhaite faire de l'analyse de sentiment dans le contexte francophone la version multi langue de BERT est la mieux adaptée pour nous.https://tfhub.dev/tensorflow/bert_multi_cased_L-12_H-768_A-12/3\n",
    "\n",
    "Il utilise L = 12 couches cachées (c'est-à-dire des blocs Transformer), chacune de taille H = 768 et A = 12 têtes d'attention.\n",
    "\n",
    "Ce SavedModel implémente l'API d'[encodeur pour les incorporations de texte avec des encodeurs de transformateur](https://www.tensorflow.org/hub/common_saved_model_apis/text#transformer-encoders) . Il attend un dict avec trois Tensors int32 en entrée : input_word_ids, input_masket input_type_ids. il existe un préprocesseur séparé SavedModel sur https://tfhub.dev/tensorflow/bert_multi_cased_preprocess/3 qui transforme les entrées de texte brut dans ce format, que sa documentation décrit plus en détail."
   ]
  },
  {
   "cell_type": "code",
   "execution_count": null,
   "metadata": {
    "colab": {
     "base_uri": "https://localhost:8080/"
    },
    "id": "HARA2Qa6a-kF",
    "outputId": "5cf2c842-444c-43dc-9389-e46b127c0700"
   },
   "outputs": [
    {
     "name": "stdout",
     "output_type": "stream",
     "text": [
      "BERT model selected           : https://tfhub.dev/tensorflow/bert_multi_cased_L-12_H-768_A-12/3\n",
      "Preprocess model auto-selected: https://tfhub.dev/tensorflow/bert_multi_cased_preprocess/3\n"
     ]
    }
   ],
   "source": [
    "bert_model_name = 'bert_multi_cased_L-12_H-768_A-12'\n",
    "\n",
    "map_name_to_handle = {\n",
    "    'bert_multi_cased_L-12_H-768_A-12':\n",
    "        'https://tfhub.dev/tensorflow/bert_multi_cased_L-12_H-768_A-12/3'\n",
    "\n",
    "}\n",
    "\n",
    "map_model_to_preprocess = {\n",
    "    'bert_multi_cased_L-12_H-768_A-12':\n",
    "        'https://tfhub.dev/tensorflow/bert_multi_cased_preprocess/3'\n",
    "\n",
    "}\n",
    "\n",
    "tfhub_handle_encoder = map_name_to_handle[bert_model_name]\n",
    "tfhub_handle_preprocess = map_model_to_preprocess[bert_model_name]\n",
    "\n",
    "print(f'BERT model selected           : {tfhub_handle_encoder}')\n",
    "print(f'Preprocess model auto-selected: {tfhub_handle_preprocess}')"
   ]
  },
  {
   "cell_type": "markdown",
   "metadata": {
    "id": "QlTpH5bSTXWn"
   },
   "source": [
    "# On charge le préprocesseur pour notre modèle BERT"
   ]
  },
  {
   "cell_type": "code",
   "execution_count": null,
   "metadata": {
    "id": "4EMwtt2Afv9K"
   },
   "outputs": [],
   "source": [
    "bert_preprocess_model = hub.KerasLayer(tfhub_handle_preprocess)"
   ]
  },
  {
   "cell_type": "code",
   "execution_count": null,
   "metadata": {
    "colab": {
     "base_uri": "https://localhost:8080/"
    },
    "id": "9Q6hdAThf3vE",
    "outputId": "de6102f0-d353-404f-92f1-bba7975a085b"
   },
   "outputs": [
    {
     "name": "stdout",
     "output_type": "stream",
     "text": [
      "Keys       : ['input_mask', 'input_type_ids', 'input_word_ids']\n",
      "Shape      : (1, 128)\n",
      "Word Ids   : [  101 34372 12127 12122 10176 19509   172   112 13508 11639 66148 10116]\n",
      "Input Mask : [1 1 1 1 1 1 1 1 1 1 1 1]\n",
      "Type Ids   : [0 0 0 0 0 0 0 0 0 0 0 0]\n"
     ]
    }
   ],
   "source": [
    "text_test = [\"mon frere est content d'avoir reussi son permis\"]\n",
    "text_preprocessed = bert_preprocess_model(text_test)\n",
    "\n",
    "print(f'Keys       : {list(text_preprocessed.keys())}')\n",
    "print(f'Shape      : {text_preprocessed[\"input_word_ids\"].shape}')\n",
    "print(f'Word Ids   : {text_preprocessed[\"input_word_ids\"][0, :12]}')\n",
    "print(f'Input Mask : {text_preprocessed[\"input_mask\"][0, :12]}')\n",
    "print(f'Type Ids   : {text_preprocessed[\"input_type_ids\"][0, :12]}')"
   ]
  },
  {
   "cell_type": "markdown",
   "metadata": {
    "id": "2We-okIxUUXi"
   },
   "source": [
    "on peut voir que le préprocesseur à transformé le texte brute en une sortie composé des 3 sorties du pré-traitement qu'un modèle BERT utiliserait ( **input_words_id**, **input_masket** **input_type_ids**).\n",
    "\n",
    "on peut remarqué que le texte à été tronqué en 128 tokens."
   ]
  },
  {
   "cell_type": "markdown",
   "metadata": {
    "id": "HAu7d46tTiSJ"
   },
   "source": [
    "# On charge notre modèle BERT"
   ]
  },
  {
   "cell_type": "code",
   "execution_count": null,
   "metadata": {
    "id": "H7eGkoRGgzCm"
   },
   "outputs": [],
   "source": [
    "bert_model = hub.KerasLayer(tfhub_handle_encoder)"
   ]
  },
  {
   "cell_type": "code",
   "execution_count": null,
   "metadata": {
    "colab": {
     "base_uri": "https://localhost:8080/"
    },
    "id": "n5UQPW8pg7sX",
    "outputId": "5770ec26-ac98-41bf-ff89-0ecb33239b5f"
   },
   "outputs": [
    {
     "name": "stdout",
     "output_type": "stream",
     "text": [
      "Loaded BERT: https://tfhub.dev/tensorflow/bert_multi_cased_L-12_H-768_A-12/3\n",
      "Pooled Outputs Shape:(1, 768)\n",
      "Pooled Outputs Values:[ 0.23244722 -0.01552258  0.23109005 -0.16374145 -0.12923603  0.2849952\n",
      "  0.10650096  0.18556643 -0.3099554   0.10125566 -0.099031   -0.15813386]\n",
      "Sequence Outputs Shape:(1, 128, 768)\n",
      "Sequence Outputs Values:[[ 0.1914292   0.25214788  0.00230324 ...  0.12576522 -0.0206904\n",
      "   0.27026924]\n",
      " [ 0.04624162 -0.03727764  0.2897571  ... -0.42949116 -0.40230736\n",
      "   0.12694988]\n",
      " [ 0.18823463  0.07426049  0.30471763 ... -0.2490075  -0.01217503\n",
      "  -0.58446926]\n",
      " ...\n",
      " [-0.07925654  0.7625677   0.03774321 ...  0.22441116  0.29442063\n",
      "   1.0629487 ]\n",
      " [ 0.1283312  -0.3975267   1.0085969  ...  0.01865927  0.17951743\n",
      "   1.2316402 ]\n",
      " [-0.071646   -0.0942322   0.7366003  ... -0.17647702 -0.14897206\n",
      "   1.2332428 ]]\n"
     ]
    }
   ],
   "source": [
    "bert_results = bert_model(text_preprocessed)\n",
    "\n",
    "print(f'Loaded BERT: {tfhub_handle_encoder}')\n",
    "print(f'Pooled Outputs Shape:{bert_results[\"pooled_output\"].shape}')\n",
    "print(f'Pooled Outputs Values:{bert_results[\"pooled_output\"][0, :12]}')\n",
    "print(f'Sequence Outputs Shape:{bert_results[\"sequence_output\"].shape}')\n",
    "print(f'Sequence Outputs Values:{bert_results[\"sequence_output\"][0, :12]}')"
   ]
  },
  {
   "cell_type": "markdown",
   "metadata": {
    "id": "1rKfjbrpVums"
   },
   "source": [
    "Les modèles BERT retournent une carte avec 3 clés importantes : **pooled_output**, **sequence_output**,**encoder_outputs** :\n",
    "\n",
    "\n",
    "*   **pooled_output** représente la séquence comme un seul vecteur de taille 768 (*c'est celui que nous allons utiliser*)\n",
    "*   **sequence_output**  représente chaque jeton d'entrée dans le contexte lexical de la phrase le nombre de jeton étant fixé à 128 par le préprocesseur on obtient une matrice de taille 128 X 768\n",
    "* **encoder_outputs** sont les activations intermédiaires des L blocs du transformaters.\n",
    "outputs[\"encoder_outputs\"][i] est un tenseur de la meme forme qu'un sequence_output (c-à-d 128 X 768) avec les sorties du i-ième bloc de transformer, pour 0 <= i < L. La dernière valeur de la liste est égale à *sequence_output*.\n",
    "\n"
   ]
  },
  {
   "cell_type": "markdown",
   "metadata": {
    "id": "FNhDZEyrZnPa"
   },
   "source": [
    "# Mise en place du modèle\n",
    "\n",
    "Nous allons créer ici un modèle affiné très simple, avec le modèle de prétraitement, le modèle BERT sélectionné, une couche Dropout(afin d'eviter un potentiel overfitting) et enfin une couche Dense."
   ]
  },
  {
   "cell_type": "code",
   "execution_count": null,
   "metadata": {
    "id": "_3OuO7XOhAHg"
   },
   "outputs": [],
   "source": [
    "def build_classifier_model():\n",
    "    #le texte brute est considéré comme l'entrée du modèle\n",
    "    text_input = tf.keras.layers.Input(shape=(), dtype=tf.string, name='text')\n",
    "\n",
    "    #Dans la couche preprocessing_layer, le text brute est est passé au préprocesseur de BERT qui produit les 3 vecteurs qui seront utilisé par la couche de BERT\n",
    "    preprocessing_layer = hub.KerasLayer(tfhub_handle_preprocess, name='preprocessing')\n",
    "    encoder_inputs = preprocessing_layer(text_input)\n",
    "\n",
    "    #la sortie encoder_inputs du modèle de pré-traitement est passé à BERT\n",
    "    encoder = hub.KerasLayer(tfhub_handle_encoder, trainable=True, name='BERT_encoder')\n",
    "    outputs = encoder(encoder_inputs)\n",
    "    #une fois les outputs produit on recupère pooled_output qui est une rep globale de notre texte initial\n",
    "    net = outputs['pooled_output']\n",
    "\n",
    "    #nous relions le pooled_output à notre couche Dropout\n",
    "    #(0.1) indique que à chaque étape cette couche met 10% des poids des entrées à zèro àchaque étape de l'entrainement\n",
    "    net = tf.keras.layers.Dropout(0.1)(net)\n",
    "\n",
    "    #nous connectons le tout à un simple perceptron(d'où le 1 pour une sortie), la fonction d'activation n'étant pas prise en compte pour l'instant\n",
    "    net = tf.keras.layers.Dense(1, activation=None, name='classifier')(net)\n",
    "\n",
    "    return tf.keras.Model(text_input, net)"
   ]
  },
  {
   "cell_type": "code",
   "execution_count": null,
   "metadata": {
    "id": "aUx4L6yHhE_c"
   },
   "outputs": [],
   "source": [
    "#Assemblons le tout dans classifier_model\n",
    "classifier_model = build_classifier_model()"
   ]
  },
  {
   "cell_type": "markdown",
   "metadata": {
    "id": "ACduPekLfU9G"
   },
   "source": [
    "On peut essayer de voir ce qui est produit déjà sans entrainement avec les poids fixées de manière aléatoire. on peut constater plus loin que le résultat n'a pas de sens"
   ]
  },
  {
   "cell_type": "code",
   "execution_count": null,
   "metadata": {
    "colab": {
     "base_uri": "https://localhost:8080/"
    },
    "id": "qf_jwePphH09",
    "outputId": "1df342da-fe11-4238-e230-8a264ef6ce9b"
   },
   "outputs": [
    {
     "name": "stdout",
     "output_type": "stream",
     "text": [
      "tf.Tensor([[0.47459504]], shape=(1, 1), dtype=float32)\n"
     ]
    }
   ],
   "source": [
    "bert_raw_result = classifier_model(tf.constant(text_test))\n",
    "print(tf.sigmoid(bert_raw_result))"
   ]
  },
  {
   "cell_type": "markdown",
   "metadata": {
    "id": "lmuhx-DDgdDl"
   },
   "source": [
    "# Nous Visualisons l'architecture complète du modèle"
   ]
  },
  {
   "cell_type": "code",
   "execution_count": null,
   "metadata": {
    "colab": {
     "base_uri": "https://localhost:8080/",
     "height": 466
    },
    "id": "Ai0o8JTVhMjO",
    "outputId": "5cb02ab9-13e2-463e-901a-08ad5ca01227"
   },
   "outputs": [
    {
     "data": {
      "image/png": "[encoded data removed]",
      "text/plain": [
       "<IPython.core.display.Image object>"
      ]
     },
     "execution_count": 22,
     "metadata": {},
     "output_type": "execute_result"
    }
   ],
   "source": [
    "tf.keras.utils.plot_model(classifier_model)"
   ]
  },
  {
   "cell_type": "markdown",
   "metadata": {
    "id": "5DSmIQUqhvSu"
   },
   "source": [
    "# Entrainement du modèle"
   ]
  },
  {
   "cell_type": "markdown",
   "metadata": {
    "id": "sZSfE5SUhe_A"
   },
   "source": [
    "Mettons en place nos métrics d'évaluation du modèle"
   ]
  },
  {
   "cell_type": "code",
   "execution_count": null,
   "metadata": {
    "id": "Qft6AiV5hT1V"
   },
   "outputs": [],
   "source": [
    "loss = tf.keras.losses.BinaryCrossentropy(from_logits=True)\n",
    "metrics = tf.metrics.BinaryAccuracy()"
   ]
  },
  {
   "cell_type": "markdown",
   "metadata": {
    "id": "DpqE95aWh-qy"
   },
   "source": [
    "**Optimiseur**\n",
    "\n",
    "Pour le réglage fin, utilisez le même optimiseur avec lequel BERT a été formé à l'origine : les \" Moments adaptatifs \" (Adam). Cet optimiseur minimise la perte de prédiction et fait la régularisation par la désintégration de poids (pas en utilisant des moments), qui est également connu sous le nom AdamW .\n",
    "\n",
    "Pour le taux d'apprentissage ( init_lr ), nous utiliserons la meme démarche que le modèle préformé BERT: décroissance linéaire d'un taux d'apprentissage théorique initiale, préfixé avec une phase d' échauffement linéaire sur la première tranche de 10% des étapes de formation ( num_warmup_steps ). Conformément à l'article du BERT, plus le taux d'apprentissage initial est faible plus le réglage fin (le meilleur de 5e-5, 3e-5, 2e-5).\n",
    "\n",
    "Nous avons fixé l'entrainement sur 8 epochs et nous utilisons la méthode stochastique pour l'entrainement"
   ]
  },
  {
   "cell_type": "code",
   "execution_count": null,
   "metadata": {
    "id": "cpFWs7HLhcz2"
   },
   "outputs": [],
   "source": [
    "epochs = 8\n",
    "steps_per_epoch =len(train_ds)\n",
    "num_train_steps = steps_per_epoch * epochs\n",
    "num_warmup_steps = int(0.1*num_train_steps)\n",
    "\n",
    "init_lr = 3e-5\n",
    "optimizer = optimization.create_optimizer(init_lr=init_lr,\n",
    "                                          num_train_steps=num_train_steps,\n",
    "                                          num_warmup_steps=num_warmup_steps,\n",
    "                                          optimizer_type='adamw')"
   ]
  },
  {
   "cell_type": "markdown",
   "metadata": {
    "id": "3hLJwld6n4CR"
   },
   "source": [
    "On compile le tout pour l'entrainement: le modèle, les métriques et l'optimiseur"
   ]
  },
  {
   "cell_type": "code",
   "execution_count": null,
   "metadata": {
    "id": "J8kdTOSfhrvd"
   },
   "outputs": [],
   "source": [
    "classifier_model.compile(optimizer=optimizer,\n",
    "                         loss=loss,\n",
    "                         metrics=metrics)"
   ]
  },
  {
   "cell_type": "markdown",
   "metadata": {
    "id": "hNP55BruoGix"
   },
   "source": [
    "On converti les datasets en des tableaux numpy utilisable plus on effectue l'entrainement"
   ]
  },
  {
   "cell_type": "code",
   "execution_count": null,
   "metadata": {
    "id": "QtVXTaqGhzcy"
   },
   "outputs": [],
   "source": [
    "val_ds = np.array(val_ds)"
   ]
  },
  {
   "cell_type": "code",
   "execution_count": null,
   "metadata": {
    "colab": {
     "base_uri": "https://localhost:8080/"
    },
    "id": "-utE_oGih05A",
    "outputId": "9bf63afe-7e60-4264-e173-d8c6c64187eb"
   },
   "outputs": [
    {
     "name": "stdout",
     "output_type": "stream",
     "text": [
      "Training model with https://tfhub.dev/tensorflow/bert_multi_cased_L-12_H-768_A-12/3\n",
      "Epoch 1/8\n",
      "625/625 [==============================] - 584s 908ms/step - loss: 0.6808 - binary_accuracy: 0.5221\n",
      "Epoch 2/8\n",
      "625/625 [==============================] - 568s 909ms/step - loss: 0.5832 - binary_accuracy: 0.6744\n",
      "Epoch 3/8\n",
      "625/625 [==============================] - 568s 908ms/step - loss: 0.5158 - binary_accuracy: 0.7369\n",
      "Epoch 4/8\n",
      "625/625 [==============================] - 578s 925ms/step - loss: 0.4687 - binary_accuracy: 0.7712\n",
      "Epoch 5/8\n",
      "625/625 [==============================] - 567s 907ms/step - loss: 0.4264 - binary_accuracy: 0.7977\n",
      "Epoch 6/8\n",
      "625/625 [==============================] - 566s 906ms/step - loss: 0.3817 - binary_accuracy: 0.8264\n",
      "Epoch 7/8\n",
      "625/625 [==============================] - 568s 909ms/step - loss: 0.3336 - binary_accuracy: 0.8497\n",
      "Epoch 8/8\n",
      "625/625 [==============================] - 567s 908ms/step - loss: 0.2810 - binary_accuracy: 0.8813\n"
     ]
    }
   ],
   "source": [
    "print(f'Training model with {tfhub_handle_encoder}')\n",
    "history = classifier_model.fit(x=train_ds.text,\n",
    "                               y=train_ds.label,\n",
    "                               validation_data = val_ds.all(),\n",
    "                               epochs=epochs)"
   ]
  },
  {
   "cell_type": "markdown",
   "metadata": {
    "id": "TWGMjLR4ojeG"
   },
   "source": [
    "L'apprentissage étant terminé, on teste la prédiction faite par le modèle sur la meme phrase dont on a fait le test avant l'entrainement: le valeur obtenue est baeaucoup plus significative"
   ]
  },
  {
   "cell_type": "code",
   "execution_count": null,
   "metadata": {
    "colab": {
     "base_uri": "https://localhost:8080/"
    },
    "id": "v_BVl39BfaFS",
    "outputId": "16ec98c6-af18-47d4-bb96-41dfa5a88856"
   },
   "outputs": [
    {
     "data": {
      "text/plain": [
       "<tf.Tensor: shape=(1, 1), dtype=float32, numpy=array([[0.98940545]], dtype=float32)>"
      ]
     },
     "execution_count": 39,
     "metadata": {},
     "output_type": "execute_result"
    }
   ],
   "source": [
    "tf.sigmoid(classifier_model(tf.constant(text_test)))"
   ]
  },
  {
   "cell_type": "markdown",
   "metadata": {
    "id": "kxtc2pV5qW64"
   },
   "source": [
    "# Evaluation du modèle"
   ]
  },
  {
   "cell_type": "markdown",
   "metadata": {
    "id": "r874oycKrGuh"
   },
   "source": [
    "On récupere les toutes les prédictions faite sur le jeu de données de test, on fait toute les convertions de datasets nécessaire pour les passer au fonctions d'evaluation"
   ]
  },
  {
   "cell_type": "code",
   "execution_count": null,
   "metadata": {
    "id": "xOowULaBqk47"
   },
   "outputs": [],
   "source": [
    "y_pred = classifier_model.predict(test_ds[:,0])"
   ]
  },
  {
   "cell_type": "code",
   "execution_count": null,
   "metadata": {
    "id": "0GKGcHkgjeng"
   },
   "outputs": [],
   "source": [
    "test_ds = np.array(test_ds)\n",
    "test_ds[0][1]=0"
   ]
  },
  {
   "cell_type": "code",
   "execution_count": null,
   "metadata": {
    "id": "4BJumPC7zXf_"
   },
   "outputs": [],
   "source": [
    "Y_pred= tf.maximum(0,tf.sign(y_pred))\n",
    "Y_test= tf.convert_to_tensor(test_ds[:,1], dtype=tf.float32)\n",
    "X_test= tf.convert_to_tensor(test_ds[:,0], dtype=tf.string)"
   ]
  },
  {
   "cell_type": "code",
   "execution_count": null,
   "metadata": {
    "colab": {
     "base_uri": "https://localhost:8080/"
    },
    "id": "3ZUsxolUshAu",
    "outputId": "fade4bf1-f950-4e72-ee1c-423755d63995"
   },
   "outputs": [
    {
     "name": "stdout",
     "output_type": "stream",
     "text": [
      "30000 ;  30000\n"
     ]
    }
   ],
   "source": [
    "print(len(y_pred),\"; \",len(test_ds[:,1]))"
   ]
  },
  {
   "cell_type": "markdown",
   "metadata": {
    "id": "AcULlrTCsgu6"
   },
   "source": [
    "Affichons les metriques d'evaluation et la matrice de confusion"
   ]
  },
  {
   "cell_type": "code",
   "execution_count": null,
   "metadata": {
    "id": "IZy2iwXrjLdJ"
   },
   "outputs": [],
   "source": [
    "def model_Evaluate(model):\n",
    "    # afficher les metriques d'evaluation.\n",
    "    print(classification_report(Y_test, Y_pred))\n",
    "    # Compute and plot the Confusion matrix\n",
    "    cf_matrix = confusion_matrix(Y_test, Y_pred)\n",
    "    categories = ['Negative','Positive']\n",
    "    group_names = ['True Neg','False Pos', 'False Neg','True Pos']\n",
    "    group_percentages = ['{0:.2%}'.format(value) for value in cf_matrix.flatten() / np.sum(cf_matrix)]\n",
    "    labels = [f'{v1}n{v2}' for v1, v2 in zip(group_names,group_percentages)]\n",
    "    labels = np.asarray(labels).reshape(2,2)\n",
    "    sns.heatmap(cf_matrix, annot = labels, cmap = 'Blues',fmt = '',\n",
    "    xticklabels = categories, yticklabels = categories)\n",
    "    plt.xlabel(\"Predicted values\", fontdict = {'size':14}, labelpad = 10)\n",
    "    plt.ylabel(\"Actual values\" , fontdict = {'size':14}, labelpad = 10)\n",
    "    plt.title (\"Confusion Matrix\", fontdict = {'size':18}, pad = 20)"
   ]
  },
  {
   "cell_type": "code",
   "execution_count": null,
   "metadata": {
    "colab": {
     "base_uri": "https://localhost:8080/",
     "height": 479
    },
    "id": "c1xm89VqjsmA",
    "outputId": "baf29766-49b4-4f3b-c648-c2f439b7efc0"
   },
   "outputs": [
    {
     "name": "stdout",
     "output_type": "stream",
     "text": [
      "              precision    recall  f1-score   support\n",
      "\n",
      "         0.0       0.79      0.75      0.77     15000\n",
      "         1.0       0.76      0.80      0.78     15000\n",
      "\n",
      "    accuracy                           0.78     30000\n",
      "   macro avg       0.78      0.78      0.78     30000\n",
      "weighted avg       0.78      0.78      0.78     30000\n",
      "\n"
     ]
    },
    {
     "data": {
      "image/png": "[encoded data removed]",
      "text/plain": [
       "<Figure size 432x288 with 2 Axes>"
      ]
     },
     "metadata": {
      "needs_background": "light"
     },
     "output_type": "display_data"
    }
   ],
   "source": [
    "model_Evaluate(classifier_model)"
   ]
  },
  {
   "cell_type": "markdown",
   "metadata": {
    "id": "vv1d-5EDtLMf"
   },
   "source": [
    "# Sauvegarde du modèle"
   ]
  },
  {
   "cell_type": "code",
   "execution_count": null,
   "metadata": {
    "colab": {
     "base_uri": "https://localhost:8080/"
    },
    "id": "Zb9Bun17iey1",
    "outputId": "3ed34bb9-f8e7-46a2-8788-259ae99ceee1"
   },
   "outputs": [
    {
     "name": "stderr",
     "output_type": "stream",
     "text": [
      "WARNING:absl:Found untraced functions such as restored_function_body, restored_function_body, restored_function_body, restored_function_body, restored_function_body while saving (showing 5 of 364). These functions will not be directly callable after loading.\n"
     ]
    }
   ],
   "source": [
    "dataset_name = 'AST'\n",
    "saved_model_path = '/content/drive/MyDrive/Colab Notebooks/{}_bert'.format(dataset_name.replace('/', '_'))\n",
    "\n",
    "classifier_model.save(saved_model_path, include_optimizer=False)"
   ]
  },
  {
   "cell_type": "markdown",
   "metadata": {
    "id": "2sjjFu2ltVwE"
   },
   "source": [
    "Verifions que la sauvegarde a été bien effectuée"
   ]
  },
  {
   "cell_type": "code",
   "execution_count": null,
   "metadata": {
    "id": "SXhhXiHfinA4"
   },
   "outputs": [],
   "source": [
    "reloaded_model = tf.saved_model.load(saved_model_path)"
   ]
  },
  {
   "cell_type": "code",
   "execution_count": null,
   "metadata": {
    "colab": {
     "base_uri": "https://localhost:8080/"
    },
    "id": "vVwNosp-irRl",
    "outputId": "e961b92c-ae3d-45a8-ea78-d2c4cb93e5dc"
   },
   "outputs": [
    {
     "name": "stdout",
     "output_type": "stream",
     "text": [
      "Results from the saved model:\n",
      "input: C'est le jeudi tout le monde est très beau pour la reunion! : score: 0.992422\n",
      "input: j'ai classe                    : score: 0.559038\n",
      "input: Ma mère a préparé une nourriture que je n'aime pas trop : score: 0.188428\n",
      "input: C'est le jour de mon anniversaire mais je n'ai reçu aucun cadeau. : score: 0.025665\n",
      "input: C'était aggréable, il y'a eu beaucoup de suspense. on attend la suite... : score: 0.904443\n",
      "\n",
      "Results from the model in memory:\n",
      "input: C'est le jeudi tout le monde est très beau pour la reunion! : score: 0.992422\n",
      "input: j'ai classe                    : score: 0.559038\n",
      "input: Ma mère a préparé une nourriture que je n'aime pas trop : score: 0.188428\n",
      "input: C'est le jour de mon anniversaire mais je n'ai reçu aucun cadeau. : score: 0.025665\n",
      "input: C'était aggréable, il y'a eu beaucoup de suspense. on attend la suite... : score: 0.904443\n",
      "\n"
     ]
    }
   ],
   "source": [
    "def print_my_examples(inputs, results):\n",
    "    result_for_printing = \\\n",
    "    [f'input: {inputs[i]:<30} : score: {results[i][0]:.6f}'\n",
    "                         for i in range(len(inputs))]\n",
    "    print(*result_for_printing, sep='\\n')\n",
    "    print()\n",
    "\n",
    "\n",
    "examples = [\n",
    "    \"C'est le jeudi tout le monde est très beau pour la reunion!\",\n",
    "    \"j'ai classe\",\n",
    "    \"Ma mère a préparé une nourriture que je n'aime pas trop\",\n",
    "    \"C'est le jour de mon anniversaire mais je n'ai reçu aucun cadeau.\",\n",
    "    \"C'était aggréable, il y'a eu beaucoup de suspense. on attend la suite...\"\n",
    "]\n",
    "\n",
    "reloaded_results = tf.sigmoid(reloaded_model(tf.constant(examples)))\n",
    "original_results = tf.sigmoid(classifier_model(tf.constant(examples)))\n",
    "\n",
    "print('Results from the saved model:')\n",
    "print_my_examples(examples, reloaded_results)\n",
    "print('Results from the model in memory:')\n",
    "print_my_examples(examples, original_results)"
   ]
  },
  {
   "cell_type": "code",
   "execution_count": null,
   "metadata": {
    "colab": {
     "base_uri": "https://localhost:8080/"
    },
    "id": "32akk0UfiyCL",
    "outputId": "359d546f-0735-4669-c7ac-a50dbbdda2b6"
   },
   "outputs": [
    {
     "name": "stdout",
     "output_type": "stream",
     "text": [
      "input: C'est le jeudi tout le monde est très beau pour la reunion! : score: 0.992422\n",
      "input: j'ai classe                    : score: 0.559038\n",
      "input: Ma mère a préparé une nourriture que je n'aime pas trop : score: 0.188428\n",
      "input: C'est le jour de mon anniversaire mais je n'ai reçu aucun cadeau. : score: 0.025665\n",
      "input: C'était aggréable, il y'a eu beaucoup de suspense. on attend la suite... : score: 0.904443\n",
      "\n"
     ]
    }
   ],
   "source": [
    "serving_results = reloaded_model \\\n",
    "            .signatures['serving_default'](tf.constant(examples))\n",
    "\n",
    "serving_results = tf.sigmoid(serving_results['classifier'])\n",
    "\n",
    "print_my_examples(examples, serving_results)"
   ]
  }
 ],
 "metadata": {
  "accelerator": "GPU",
  "colab": {
   "provenance": []
  },
  "kernelspec": {
   "display_name": "Python 3 (ipykernel)",
   "language": "python",
   "name": "python3"
  },
  "language_info": {
   "codemirror_mode": {
    "name": "ipython",
    "version": 3
   },
   "file_extension": ".py",
   "mimetype": "text/x-python",
   "name": "python",
   "nbconvert_exporter": "python",
   "pygments_lexer": "ipython3",
   "version": "3.12.7"
  }
 },
 "nbformat": 4,
 "nbformat_minor": 4
}
